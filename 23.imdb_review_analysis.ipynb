{
 "cells": [
  {
   "cell_type": "markdown",
   "metadata": {},
   "source": [
    "## Classifier to perform sentiment analysis on movie reviews"
   ]
  },
  {
   "cell_type": "code",
   "execution_count": 1,
   "metadata": {},
   "outputs": [
    {
     "name": "stderr",
     "output_type": "stream",
     "text": [
      "Using TensorFlow backend.\n"
     ]
    }
   ],
   "source": [
    "from keras import layers\n",
    "from keras.datasets import imdb\n",
    "from keras import optimizers\n",
    "from keras import losses\n",
    "\n",
    "import matplotlib.pyplot as plt\n",
    "import seaborn as sns\n",
    "import numpy as np"
   ]
  },
  {
   "cell_type": "code",
   "execution_count": 2,
   "metadata": {
    "collapsed": true
   },
   "outputs": [],
   "source": [
    "(train_data, train_label), (test_data, test_label) = imdb.load_data(num_words=12000)"
   ]
  },
  {
   "cell_type": "code",
   "execution_count": 3,
   "metadata": {},
   "outputs": [
    {
     "data": {
      "text/plain": [
       "(25000,)"
      ]
     },
     "execution_count": 3,
     "metadata": {},
     "output_type": "execute_result"
    }
   ],
   "source": [
    "train_data.shape"
   ]
  },
  {
   "cell_type": "code",
   "execution_count": 4,
   "metadata": {},
   "outputs": [
    {
     "data": {
      "text/plain": [
       "(25000,)"
      ]
     },
     "execution_count": 4,
     "metadata": {},
     "output_type": "execute_result"
    }
   ],
   "source": [
    "test_data.shape"
   ]
  },
  {
   "cell_type": "code",
   "execution_count": 5,
   "metadata": {},
   "outputs": [
    {
     "name": "stdout",
     "output_type": "stream",
     "text": [
      "Reviews: [1, 14, 22, 16, 43, 530, 973, 1622, 1385, 65, 458, 4468, 66, 3941, 4, 173, 36, 256, 5, 25, 100, 43, 838, 112, 50, 670, 2, 9, 35, 480, 284, 5, 150, 4, 172, 112, 167, 2, 336, 385, 39, 4, 172, 4536, 1111, 17, 546, 38, 13, 447, 4, 192, 50, 16, 6, 147, 2025, 19, 14, 22, 4, 1920, 4613, 469, 4, 22, 71, 87, 12, 16, 43, 530, 38, 76, 15, 13, 1247, 4, 22, 17, 515, 17, 12, 16, 626, 18, 2, 5, 62, 386, 12, 8, 316, 8, 106, 5, 4, 2223, 5244, 16, 480, 66, 3785, 33, 4, 130, 12, 16, 38, 619, 5, 25, 124, 51, 36, 135, 48, 25, 1415, 33, 6, 22, 12, 215, 28, 77, 52, 5, 14, 407, 16, 82, 10311, 8, 4, 107, 117, 5952, 15, 256, 4, 2, 7, 3766, 5, 723, 36, 71, 43, 530, 476, 26, 400, 317, 46, 7, 4, 2, 1029, 13, 104, 88, 4, 381, 15, 297, 98, 32, 2071, 56, 26, 141, 6, 194, 7486, 18, 4, 226, 22, 21, 134, 476, 26, 480, 5, 144, 30, 5535, 18, 51, 36, 28, 224, 92, 25, 104, 4, 226, 65, 16, 38, 1334, 88, 12, 16, 283, 5, 16, 4472, 113, 103, 32, 15, 16, 5345, 19, 178, 32]\n",
      "Reviews: [1, 194, 1153, 194, 8255, 78, 228, 5, 6, 1463, 4369, 5012, 134, 26, 4, 715, 8, 118, 1634, 14, 394, 20, 13, 119, 954, 189, 102, 5, 207, 110, 3103, 21, 14, 69, 188, 8, 30, 23, 7, 4, 249, 126, 93, 4, 114, 9, 2300, 1523, 5, 647, 4, 116, 9, 35, 8163, 4, 229, 9, 340, 1322, 4, 118, 9, 4, 130, 4901, 19, 4, 1002, 5, 89, 29, 952, 46, 37, 4, 455, 9, 45, 43, 38, 1543, 1905, 398, 4, 1649, 26, 6853, 5, 163, 11, 3215, 10156, 4, 1153, 9, 194, 775, 7, 8255, 11596, 349, 2637, 148, 605, 2, 8003, 15, 123, 125, 68, 2, 6853, 15, 349, 165, 4362, 98, 5, 4, 228, 9, 43, 2, 1157, 15, 299, 120, 5, 120, 174, 11, 220, 175, 136, 50, 9, 4373, 228, 8255, 5, 2, 656, 245, 2350, 5, 4, 9837, 131, 152, 491, 18, 2, 32, 7464, 1212, 14, 9, 6, 371, 78, 22, 625, 64, 1382, 9, 8, 168, 145, 23, 4, 1690, 15, 16, 4, 1355, 5, 28, 6, 52, 154, 462, 33, 89, 78, 285, 16, 145, 95]\n"
     ]
    }
   ],
   "source": [
    "for review in train_data[:2]:\n",
    "    print('Reviews:', review)"
   ]
  },
  {
   "cell_type": "code",
   "execution_count": 6,
   "metadata": {},
   "outputs": [
    {
     "data": {
      "text/plain": [
       "array([1, 0])"
      ]
     },
     "execution_count": 6,
     "metadata": {},
     "output_type": "execute_result"
    }
   ],
   "source": [
    "train_label[:2]"
   ]
  },
  {
   "cell_type": "code",
   "execution_count": 7,
   "metadata": {},
   "outputs": [
    {
     "name": "stdout",
     "output_type": "stream",
     "text": [
      "<class 'numpy.ndarray'>\n"
     ]
    }
   ],
   "source": [
    "print(type(train_data))"
   ]
  },
  {
   "cell_type": "code",
   "execution_count": 8,
   "metadata": {},
   "outputs": [
    {
     "name": "stdout",
     "output_type": "stream",
     "text": [
      "<class 'dict'>\n"
     ]
    }
   ],
   "source": [
    "word_index = imdb.get_word_index()\n",
    "print(type(word_index))"
   ]
  },
  {
   "cell_type": "code",
   "execution_count": 9,
   "metadata": {
    "collapsed": true
   },
   "outputs": [],
   "source": [
    "reverse_word_index = dict([ (value, key) for (key, value) in word_index.items() ])"
   ]
  },
  {
   "cell_type": "code",
   "execution_count": 10,
   "metadata": {},
   "outputs": [
    {
     "name": "stdout",
     "output_type": "stream",
     "text": [
      ", this film was just brilliant casting location scenery story direction everyone's really suited the part they played and you could just imagine being there robert , is an amazing actor and now the same being director , father came from the same scottish island as myself so i loved the fact there was a real connection with this film the witty remarks throughout the film were great it was just brilliant so much that i bought the film as soon as it was released for , and would recommend it to everyone to watch and the fly fishing was amazing really cried at the end it was so sad and you know what they say if you cry at a film it must have been good and this definitely was also congratulations to the two little boy's that played the , of norman and paul they were just brilliant children are often left out of the , list i think because the stars that play them all grown up are such a big profile for the whole film but these children are amazing and should be praised for what they have done don't you think the whole story was so lovely because it was true and was someone's life after all that was shared with us all\n"
     ]
    }
   ],
   "source": [
    "first_review = ' '.join(reverse_word_index.get(i-3, ',') for i in train_data[0])\n",
    "print(first_review)"
   ]
  },
  {
   "cell_type": "code",
   "execution_count": 11,
   "metadata": {
    "collapsed": true
   },
   "outputs": [],
   "source": [
    "def one_hot_encoding(data, num_words=12000):\n",
    "    vectorized_sequence = np.zeros((len(data), num_words))\n",
    "    \n",
    "    for row, col in enumerate(data):\n",
    "        vectorized_sequence[row, col] = 1 # assign 1 whenever there is an integer\n",
    "    return vectorized_sequence"
   ]
  },
  {
   "cell_type": "code",
   "execution_count": 12,
   "metadata": {},
   "outputs": [
    {
     "name": "stdout",
     "output_type": "stream",
     "text": [
      "(25000, 12000)\n",
      "(25000, 12000)\n"
     ]
    }
   ],
   "source": [
    "trainX = one_hot_encoding(train_data)\n",
    "print(trainX.shape)\n",
    "testX = one_hot_encoding(test_data)\n",
    "print(testX.shape)"
   ]
  },
  {
   "cell_type": "code",
   "execution_count": 13,
   "metadata": {
    "collapsed": true
   },
   "outputs": [],
   "source": [
    "trainY = train_label.astype('float32')\n",
    "testY = test_label.astype('float32')"
   ]
  },
  {
   "cell_type": "code",
   "execution_count": 14,
   "metadata": {},
   "outputs": [
    {
     "data": {
      "text/plain": [
       "array([0., 1., 1., 0., 1.], dtype=float32)"
      ]
     },
     "execution_count": 14,
     "metadata": {},
     "output_type": "execute_result"
    }
   ],
   "source": [
    "testY[:5]"
   ]
  },
  {
   "cell_type": "code",
   "execution_count": 15,
   "metadata": {
    "collapsed": true
   },
   "outputs": [],
   "source": [
    "from sklearn.model_selection import train_test_split\n",
    "from keras import metrics"
   ]
  },
  {
   "cell_type": "code",
   "execution_count": 16,
   "metadata": {
    "collapsed": true
   },
   "outputs": [],
   "source": [
    "train_X, val_X = trainX[:20000], trainX[20000:]\n",
    "train_Y, val_Y = trainY[:20000], trainY[20000:]"
   ]
  },
  {
   "cell_type": "code",
   "execution_count": 17,
   "metadata": {
    "collapsed": true
   },
   "outputs": [],
   "source": [
    "from keras.models import Model, Input\n",
    "from keras import regularizers"
   ]
  },
  {
   "cell_type": "code",
   "execution_count": 18,
   "metadata": {
    "collapsed": true
   },
   "outputs": [],
   "source": [
    "ip = Input(batch_shape=(None, 12000), name='input')\n",
    "dense1 = layers.Dense(32, activation='relu',\n",
    "                      kernel_regularizer = regularizers.l1_l2(l1=0.001, l2=0.001),\n",
    "                      name='dense1')(ip)\n",
    "dropout1 = layers.Dropout(0.3)(dense1)\n",
    "dense2 = layers.Dense(32, activation='relu',\n",
    "                      kernel_regularizer = regularizers.l1_l2(l1=0.001, l2=0.001),\n",
    "                      name='dense2')(dropout1)\n",
    "dropout2 = layers.Dropout(0.3)(dense2)\n",
    "output = layers.Dense(1, activation='sigmoid', name='output')(dropout2)"
   ]
  },
  {
   "cell_type": "code",
   "execution_count": 19,
   "metadata": {},
   "outputs": [
    {
     "name": "stdout",
     "output_type": "stream",
     "text": [
      "_________________________________________________________________\n",
      "Layer (type)                 Output Shape              Param #   \n",
      "=================================================================\n",
      "input (InputLayer)           (None, 12000)             0         \n",
      "_________________________________________________________________\n",
      "dense1 (Dense)               (None, 32)                384032    \n",
      "_________________________________________________________________\n",
      "dropout_1 (Dropout)          (None, 32)                0         \n",
      "_________________________________________________________________\n",
      "dense2 (Dense)               (None, 32)                1056      \n",
      "_________________________________________________________________\n",
      "dropout_2 (Dropout)          (None, 32)                0         \n",
      "_________________________________________________________________\n",
      "output (Dense)               (None, 1)                 33        \n",
      "=================================================================\n",
      "Total params: 385,121\n",
      "Trainable params: 385,121\n",
      "Non-trainable params: 0\n",
      "_________________________________________________________________\n"
     ]
    }
   ],
   "source": [
    "model = Model(inputs=ip, outputs=output)\n",
    "model.summary()"
   ]
  },
  {
   "cell_type": "code",
   "execution_count": 20,
   "metadata": {
    "collapsed": true
   },
   "outputs": [],
   "source": [
    "loss = losses.binary_crossentropy\n",
    "opt = optimizers.adam(lr=0.001)\n",
    "accuracy = metrics.binary_accuracy"
   ]
  },
  {
   "cell_type": "code",
   "execution_count": 21,
   "metadata": {
    "collapsed": true
   },
   "outputs": [],
   "source": [
    "model.compile(loss=loss, optimizer=opt, metrics=[accuracy])"
   ]
  },
  {
   "cell_type": "code",
   "execution_count": 22,
   "metadata": {},
   "outputs": [
    {
     "name": "stdout",
     "output_type": "stream",
     "text": [
      "Train on 20000 samples, validate on 5000 samples\n",
      "Epoch 1/20\n",
      " - 2s - loss: 1.9776 - binary_accuracy: 0.6770 - val_loss: 0.9216 - val_binary_accuracy: 0.8038\n",
      "Epoch 2/20\n",
      " - 1s - loss: 0.8091 - binary_accuracy: 0.7957 - val_loss: 0.6959 - val_binary_accuracy: 0.8458\n",
      "Epoch 3/20\n",
      " - 1s - loss: 0.7084 - binary_accuracy: 0.8296 - val_loss: 0.6543 - val_binary_accuracy: 0.8508\n",
      "Epoch 4/20\n",
      " - 1s - loss: 0.6750 - binary_accuracy: 0.8437 - val_loss: 0.6306 - val_binary_accuracy: 0.8570\n",
      "Epoch 5/20\n",
      " - 1s - loss: 0.6537 - binary_accuracy: 0.8509 - val_loss: 0.6125 - val_binary_accuracy: 0.8560\n",
      "Epoch 6/20\n",
      " - 1s - loss: 0.6321 - binary_accuracy: 0.8555 - val_loss: 0.5888 - val_binary_accuracy: 0.8652\n",
      "Epoch 7/20\n",
      " - 1s - loss: 0.6125 - binary_accuracy: 0.8610 - val_loss: 0.5849 - val_binary_accuracy: 0.8666\n",
      "Epoch 8/20\n",
      " - 1s - loss: 0.6077 - binary_accuracy: 0.8638 - val_loss: 0.5784 - val_binary_accuracy: 0.8696\n",
      "Epoch 9/20\n",
      " - 1s - loss: 0.5996 - binary_accuracy: 0.8650 - val_loss: 0.5703 - val_binary_accuracy: 0.8698\n",
      "Epoch 10/20\n",
      " - 1s - loss: 0.5936 - binary_accuracy: 0.8664 - val_loss: 0.5787 - val_binary_accuracy: 0.8696\n",
      "Epoch 11/20\n",
      " - 1s - loss: 0.6055 - binary_accuracy: 0.8677 - val_loss: 0.5717 - val_binary_accuracy: 0.8740\n",
      "Epoch 12/20\n",
      " - 1s - loss: 0.5847 - binary_accuracy: 0.8736 - val_loss: 0.5628 - val_binary_accuracy: 0.8742\n",
      "Epoch 13/20\n",
      " - 1s - loss: 0.5810 - binary_accuracy: 0.8747 - val_loss: 0.5729 - val_binary_accuracy: 0.8734\n",
      "Epoch 14/20\n",
      " - 1s - loss: 0.5966 - binary_accuracy: 0.8732 - val_loss: 0.5680 - val_binary_accuracy: 0.8762\n",
      "Epoch 15/20\n",
      " - 1s - loss: 0.5834 - binary_accuracy: 0.8780 - val_loss: 0.5672 - val_binary_accuracy: 0.8768\n",
      "Epoch 16/20\n",
      " - 1s - loss: 0.5769 - binary_accuracy: 0.8769 - val_loss: 0.5586 - val_binary_accuracy: 0.8760\n",
      "Epoch 17/20\n",
      " - 1s - loss: 0.5832 - binary_accuracy: 0.8783 - val_loss: 0.5778 - val_binary_accuracy: 0.8734\n",
      "Epoch 18/20\n",
      " - 1s - loss: 0.5789 - binary_accuracy: 0.8788 - val_loss: 0.5634 - val_binary_accuracy: 0.8766\n",
      "Epoch 19/20\n",
      " - 1s - loss: 0.5742 - binary_accuracy: 0.8794 - val_loss: 0.5629 - val_binary_accuracy: 0.8768\n",
      "Epoch 20/20\n",
      " - 1s - loss: 0.5735 - binary_accuracy: 0.8800 - val_loss: 0.5648 - val_binary_accuracy: 0.8730\n"
     ]
    }
   ],
   "source": [
    "history = model.fit(train_X, train_Y,\n",
    "                   epochs = 20,\n",
    "                   batch_size = 512,\n",
    "                   verbose = 2,\n",
    "                   validation_data = (val_X, val_Y)\n",
    "                   )"
   ]
  },
  {
   "cell_type": "code",
   "execution_count": 23,
   "metadata": {},
   "outputs": [
    {
     "name": "stdout",
     "output_type": "stream",
     "text": [
      "<class 'keras.callbacks.History'>\n"
     ]
    }
   ],
   "source": [
    "print(type(history))"
   ]
  },
  {
   "cell_type": "code",
   "execution_count": 24,
   "metadata": {},
   "outputs": [
    {
     "name": "stdout",
     "output_type": "stream",
     "text": [
      "<class 'dict'>\n"
     ]
    }
   ],
   "source": [
    "print(type(history.history))"
   ]
  },
  {
   "cell_type": "code",
   "execution_count": 25,
   "metadata": {},
   "outputs": [
    {
     "name": "stdout",
     "output_type": "stream",
     "text": [
      "dict_keys(['val_loss', 'val_binary_accuracy', 'loss', 'binary_accuracy'])\n"
     ]
    }
   ],
   "source": [
    "print(history.history.keys())"
   ]
  },
  {
   "cell_type": "code",
   "execution_count": 26,
   "metadata": {
    "collapsed": true
   },
   "outputs": [],
   "source": [
    "plt.rcParams['figure.figsize'] = 15, 8"
   ]
  },
  {
   "cell_type": "code",
   "execution_count": 27,
   "metadata": {},
   "outputs": [
    {
     "data": {
      "image/png": "[encoded data removed]",
      "text/plain": [
       "<Figure size 1080x576 with 1 Axes>"
      ]
     },
     "metadata": {},
     "output_type": "display_data"
    }
   ],
   "source": [
    "plt.plot(history.history['loss'], label = 'training_loss')\n",
    "plt.plot(history.history['val_loss'], label = 'validation_loss')\n",
    "plt.xlabel('Epochs')\n",
    "plt.ylabel('Loss')\n",
    "plt.title('Training and Validation loss')\n",
    "plt.legend()\n",
    "plt.show()"
   ]
  },
  {
   "cell_type": "code",
   "execution_count": 28,
   "metadata": {},
   "outputs": [
    {
     "data": {
      "image/png": "[encoded data removed]",
      "text/plain": [
       "<Figure size 1080x576 with 1 Axes>"
      ]
     },
     "metadata": {},
     "output_type": "display_data"
    }
   ],
   "source": [
    "plt.plot(history.history['binary_accuracy'], label = 'training_accuracy')\n",
    "plt.plot(history.history['val_binary_accuracy'], label = 'validation_accuracy')\n",
    "plt.xlabel('Epochs')\n",
    "plt.ylabel('Accuracy')\n",
    "plt.title('Training and Validation Accuracy')\n",
    "plt.legend()\n",
    "plt.show()"
   ]
  },
  {
   "cell_type": "code",
   "execution_count": 29,
   "metadata": {},
   "outputs": [
    {
     "name": "stdout",
     "output_type": "stream",
     "text": [
      "25000/25000 [==============================] - 2s 85us/step\n"
     ]
    }
   ],
   "source": [
    "test_result = model.evaluate(testX, testY)"
   ]
  },
  {
   "cell_type": "code",
   "execution_count": 30,
   "metadata": {},
   "outputs": [
    {
     "name": "stdout",
     "output_type": "stream",
     "text": [
      "<class 'list'>\n"
     ]
    }
   ],
   "source": [
    "print(type(test_result))"
   ]
  },
  {
   "cell_type": "code",
   "execution_count": 31,
   "metadata": {},
   "outputs": [
    {
     "name": "stdout",
     "output_type": "stream",
     "text": [
      "[0.5713596053504943, 0.87092]\n"
     ]
    }
   ],
   "source": [
    "print(test_result)"
   ]
  },
  {
   "cell_type": "code",
   "execution_count": null,
   "metadata": {
    "collapsed": true
   },
   "outputs": [],
   "source": []
  }
 ],
 "metadata": {
  "kernelspec": {
   "display_name": "Python 3",
   "language": "python",
   "name": "python3"
  },
  "language_info": {
   "codemirror_mode": {
    "name": "ipython",
    "version": 3
   },
   "file_extension": ".py",
   "mimetype": "text/x-python",
   "name": "python",
   "nbconvert_exporter": "python",
   "pygments_lexer": "ipython3",
   "version": "3.6.3"
  }
 },
 "nbformat": 4,
 "nbformat_minor": 2
}
