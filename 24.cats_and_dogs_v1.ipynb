{
 "cells": [
  {
   "cell_type": "markdown",
   "metadata": {},
   "source": [
    "# Classifier to classify images of Dogs and Cats"
   ]
  },
  {
   "cell_type": "code",
   "execution_count": 1,
   "metadata": {
    "collapsed": true
   },
   "outputs": [],
   "source": [
    "import matplotlib.pyplot as plt\n",
    "import seaborn as sns\n",
    "import numpy as np\n",
    "import os\n",
    "\n",
    "plt.rcParams['figure.figsize'] = 15, 8"
   ]
  },
  {
   "cell_type": "code",
   "execution_count": 2,
   "metadata": {},
   "outputs": [
    {
     "name": "stderr",
     "output_type": "stream",
     "text": [
      "Using TensorFlow backend.\n"
     ]
    }
   ],
   "source": [
    "from keras import Input, Model\n",
    "from keras.layers import Conv2D, Flatten, Dense, MaxPool2D, Dropout\n",
    "from keras import optimizers, losses, metrics\n",
    "from keras.preprocessing.image import ImageDataGenerator\n",
    "from keras import regularizers"
   ]
  },
  {
   "cell_type": "code",
   "execution_count": 3,
   "metadata": {
    "collapsed": true
   },
   "outputs": [],
   "source": [
    "DATADIR = '/Volumes/Study/GitHub/data/cats-dogs/'\n",
    "LOGDIR = '/Volumes/Study/GitHub/neural-nets/graphs/cats-dogs/'"
   ]
  },
  {
   "cell_type": "code",
   "execution_count": 4,
   "metadata": {
    "collapsed": true
   },
   "outputs": [],
   "source": [
    "train_dir = os.path.join(DATADIR + 'training/')\n",
    "validation_dir = os.path.join(DATADIR + 'validation/')\n",
    "test_dir = os.path.join(DATADIR + 'test/')"
   ]
  },
  {
   "cell_type": "code",
   "execution_count": 5,
   "metadata": {},
   "outputs": [
    {
     "name": "stdout",
     "output_type": "stream",
     "text": [
      "/Volumes/Study/GitHub/data/cats-dogs/training/\n",
      "/Volumes/Study/GitHub/data/cats-dogs/validation/\n",
      "/Volumes/Study/GitHub/data/cats-dogs/test/\n"
     ]
    }
   ],
   "source": [
    "print(train_dir)\n",
    "print(validation_dir)\n",
    "print(test_dir)"
   ]
  },
  {
   "cell_type": "code",
   "execution_count": 28,
   "metadata": {},
   "outputs": [
    {
     "name": "stdout",
     "output_type": "stream",
     "text": [
      "_________________________________________________________________\n",
      "Layer (type)                 Output Shape              Param #   \n",
      "=================================================================\n",
      "input (InputLayer)           (None, 150, 150, 3)       0         \n",
      "_________________________________________________________________\n",
      "conv1 (Conv2D)               (None, 150, 150, 32)      896       \n",
      "_________________________________________________________________\n",
      "pool1 (MaxPooling2D)         (None, 75, 75, 32)        0         \n",
      "_________________________________________________________________\n",
      "conv2 (Conv2D)               (None, 75, 75, 64)        18496     \n",
      "_________________________________________________________________\n",
      "pool2 (MaxPooling2D)         (None, 37, 37, 64)        0         \n",
      "_________________________________________________________________\n",
      "conv3 (Conv2D)               (None, 37, 37, 128)       73856     \n",
      "_________________________________________________________________\n",
      "pool3 (MaxPooling2D)         (None, 18, 18, 128)       0         \n",
      "_________________________________________________________________\n",
      "conv4 (Conv2D)               (None, 18, 18, 256)       295168    \n",
      "_________________________________________________________________\n",
      "pool4 (MaxPooling2D)         (None, 9, 9, 256)         0         \n",
      "_________________________________________________________________\n",
      "flatten (Flatten)            (None, 20736)             0         \n",
      "_________________________________________________________________\n",
      "dropout1 (Dropout)           (None, 20736)             0         \n",
      "_________________________________________________________________\n",
      "dense1 (Dense)               (None, 128)               2654336   \n",
      "_________________________________________________________________\n",
      "dropout2 (Dropout)           (None, 128)               0         \n",
      "_________________________________________________________________\n",
      "output (Dense)               (None, 1)                 129       \n",
      "=================================================================\n",
      "Total params: 3,042,881\n",
      "Trainable params: 3,042,881\n",
      "Non-trainable params: 0\n",
      "_________________________________________________________________\n"
     ]
    }
   ],
   "source": [
    "ip = Input(batch_shape=(None, 150, 150, 3), name='input')\n",
    "\n",
    "x = Conv2D(filters=32, kernel_size=(3, 3), padding='same', activation='relu', name='conv1')(ip)\n",
    "x = MaxPool2D(pool_size=(2, 2), name='pool1')(x)\n",
    "\n",
    "x = Conv2D(filters=64, kernel_size=(3, 3), padding='same', activation='relu', name='conv2')(x)\n",
    "x = MaxPool2D(pool_size=(2, 2), name='pool2')(x)\n",
    "\n",
    "x = Conv2D(filters=128, kernel_size=(3, 3), padding='same', activation='relu', name='conv3')(x)\n",
    "x = MaxPool2D(pool_size=(2, 2), name='pool3')(x)\n",
    "\n",
    "x = Conv2D(filters=256, kernel_size=(3, 3), padding='same', activation='relu', name='conv4')(x)\n",
    "x = MaxPool2D(pool_size=(2, 2), name='pool4')(x)\n",
    "\n",
    "x = Flatten(name='flatten')(x)\n",
    "x = Dropout(rate=0.3, name='dropout1')(x)\n",
    "\n",
    "x = Dense(units=128, activation='relu', name='dense1')(x)\n",
    "x = Dropout(rate=0.3, name='dropout2')(x)\n",
    "\n",
    "output = Dense(units=1, activation='sigmoid', name='output')(x)\n",
    "\n",
    "model = Model(inputs=ip, outputs=output)\n",
    "model.summary()"
   ]
  },
  {
   "cell_type": "code",
   "execution_count": 29,
   "metadata": {},
   "outputs": [],
   "source": [
    "loss = losses.binary_crossentropy\n",
    "opt = optimizers.Adam(lr=1e-5)\n",
    "metric = metrics.binary_accuracy"
   ]
  },
  {
   "cell_type": "code",
   "execution_count": 30,
   "metadata": {
    "collapsed": true
   },
   "outputs": [],
   "source": [
    "model.compile(loss=loss, optimizer=opt, metrics=[metric])"
   ]
  },
  {
   "cell_type": "code",
   "execution_count": 31,
   "metadata": {
    "collapsed": true
   },
   "outputs": [],
   "source": [
    "train_datagen = ImageDataGenerator(rescale=1./255)\n",
    "validation_datagen = ImageDataGenerator(rescale=1./255)"
   ]
  },
  {
   "cell_type": "code",
   "execution_count": 32,
   "metadata": {},
   "outputs": [
    {
     "name": "stdout",
     "output_type": "stream",
     "text": [
      "Found 2000 images belonging to 2 classes.\n"
     ]
    }
   ],
   "source": [
    "train_generator = train_datagen.flow_from_directory(\n",
    "                    train_dir,\n",
    "                    target_size=(150, 150),\n",
    "                    classes=['cats', 'dogs'],\n",
    "                    batch_size=20, \n",
    "                    class_mode='binary')"
   ]
  },
  {
   "cell_type": "code",
   "execution_count": 33,
   "metadata": {},
   "outputs": [
    {
     "name": "stdout",
     "output_type": "stream",
     "text": [
      "Found 1000 images belonging to 2 classes.\n"
     ]
    }
   ],
   "source": [
    "validiation_generator = train_datagen.flow_from_directory(\n",
    "                            validation_dir,\n",
    "                            target_size=(150, 150),\n",
    "                            classes=['cats', 'dogs'],\n",
    "                            batch_size=20, \n",
    "                            class_mode='binary')"
   ]
  },
  {
   "cell_type": "code",
   "execution_count": null,
   "metadata": {},
   "outputs": [
    {
     "name": "stdout",
     "output_type": "stream",
     "text": [
      "Epoch 1/20\n",
      "100/100 [==============================] - 92s 915ms/step - loss: 0.6934 - binary_accuracy: 0.4980 - val_loss: 0.6921 - val_binary_accuracy: 0.5010\n",
      "Epoch 2/20\n",
      "100/100 [==============================] - 90s 903ms/step - loss: 0.6932 - binary_accuracy: 0.5050 - val_loss: 0.6905 - val_binary_accuracy: 0.5820\n",
      "Epoch 3/20\n",
      " 37/100 [==========>...................] - ETA: 51s - loss: 0.6894 - binary_accuracy: 0.5514"
     ]
    }
   ],
   "source": [
    "history = model.fit_generator(train_generator,\n",
    "                             steps_per_epoch=100,\n",
    "                             epochs=20,\n",
    "                             validation_data=validiation_generator,\n",
    "                             validation_steps=50)\n",
    "\n",
    "model.save(os.path.join(LOGDIR + 'cat_dog_v1_1.h5'))"
   ]
  },
  {
   "cell_type": "code",
   "execution_count": null,
   "metadata": {},
   "outputs": [],
   "source": [
    "plt.plot(history.history['loss'], label = 'training_loss')\n",
    "plt.plot(history.history['val_loss'], label = 'validation_loss')\n",
    "plt.xlabel('Epochs')\n",
    "plt.ylabel('Loss')\n",
    "plt.title('Training and Validation loss')\n",
    "plt.legend()\n",
    "plt.show()"
   ]
  },
  {
   "cell_type": "code",
   "execution_count": null,
   "metadata": {},
   "outputs": [],
   "source": [
    "plt.plot(history.history['binary_accuracy'], label = 'training_accuracy')\n",
    "plt.plot(history.history['val_binary_accuracy'], label = 'validation_accuracy')\n",
    "plt.xlabel('Epochs')\n",
    "plt.ylabel('Accuracy')\n",
    "plt.title('Training and Validation Accuracy')\n",
    "plt.legend()\n",
    "plt.show()"
   ]
  },
  {
   "cell_type": "code",
   "execution_count": null,
   "metadata": {
    "collapsed": true
   },
   "outputs": [],
   "source": []
  }
 ],
 "metadata": {
  "kernelspec": {
   "display_name": "Python 3",
   "language": "python",
   "name": "python3"
  },
  "language_info": {
   "codemirror_mode": {
    "name": "ipython",
    "version": 3
   },
   "file_extension": ".py",
   "mimetype": "text/x-python",
   "name": "python",
   "nbconvert_exporter": "python",
   "pygments_lexer": "ipython3",
   "version": "3.6.3"
  }
 },
 "nbformat": 4,
 "nbformat_minor": 2
}
