{
 "cells": [
  {
   "cell_type": "markdown",
   "metadata": {},
   "source": [
    "# Image Classifier for Dogs and Cats"
   ]
  },
  {
   "cell_type": "markdown",
   "metadata": {},
   "source": [
    "### Main highlights:\n",
    "    1. Data Augmentation\n",
    "    2. Keras Callbacks\n",
    "    3. categorical_accuracy and categorical_crossentropy"
   ]
  },
  {
   "cell_type": "code",
   "execution_count": 1,
   "metadata": {
    "collapsed": true
   },
   "outputs": [],
   "source": [
    "import matplotlib.pyplot as plt\n",
    "import seaborn as sns\n",
    "import numpy as np\n",
    "import os\n",
    "\n",
    "%matplotlib inline\n",
    "\n",
    "plt.rcParams['figure.figsize'] = 15, 8"
   ]
  },
  {
   "cell_type": "code",
   "execution_count": 2,
   "metadata": {},
   "outputs": [
    {
     "name": "stderr",
     "output_type": "stream",
     "text": [
      "Using TensorFlow backend.\n"
     ]
    }
   ],
   "source": [
    "from keras import Input, Model\n",
    "from keras.layers import Conv2D, Flatten, Dense, MaxPool2D, Dropout\n",
    "from keras import optimizers, losses, metrics\n",
    "from keras.preprocessing.image import ImageDataGenerator\n",
    "from keras import regularizers\n",
    "from keras.preprocessing import image\n",
    "from keras import callbacks\n",
    "from keras import activations"
   ]
  },
  {
   "cell_type": "code",
   "execution_count": 9,
   "metadata": {
    "collapsed": true
   },
   "outputs": [],
   "source": [
    "class CatsAndDogs:\n",
    "\n",
    "    def __init__(self, loss='multiclass', metric='multiclass', activation='relu',\n",
    "                 optimizer='adam', lr=1e-4, epochs=20, image_size=150,\n",
    "                 batch_size=20, augmentation=True, plotting=True,\n",
    "                 dropout=True, regularizer=False, earlystopping=False):\n",
    "\n",
    "        self.loss = loss\n",
    "        self.metric = metric\n",
    "        self.activation = activation\n",
    "        self.optimizer = optimizer\n",
    "        self.lr = lr\n",
    "        self.epochs = epochs\n",
    "        self.image_size = image_size\n",
    "        self.batch_size = batch_size\n",
    "        self.augmentation = augmentation\n",
    "        self.plotting = plotting\n",
    "        self.dropout = dropout\n",
    "        self.regularizer = regularizer\n",
    "        self.earlystopping = earlystopping\n",
    "        self.DATADIR = '/Volumes/Study/GitHub/data/cats-dogs/'\n",
    "        self.LOGDIR = '/Volumes/Study/GitHub/neural-nets/graphs/cats-dogs/'\n",
    "\n",
    "    def _load_data(self):\n",
    "\n",
    "        if not os.path.exists(self.LOGDIR):\n",
    "            os.mkdir(self.LOGDIR, 755)\n",
    "            \n",
    "        print('Data directory',self.DATADIR)\n",
    "        print('Log directory:',self.LOGDIR)\n",
    "        \n",
    "        self.train_dir = os.path.join(self.DATADIR + 'training/')\n",
    "        self.validation_dir = os.path.join(self.DATADIR + 'validation/')\n",
    "        self.test_dir = os.path.join(self.DATADIR + 'test/')\n",
    "\n",
    "    def data_generator(self):\n",
    "        if self.augmentation:\n",
    "            train_datagen = ImageDataGenerator(rescale=1.0/255,\n",
    "                                               rotation_range=40,\n",
    "                                               width_shift_range=0.2,\n",
    "                                               height_shift_range=0.2,\n",
    "                                               shear_range=0.2,\n",
    "                                               zoom_range=0.2,\n",
    "                                               horizontal_flip=True,\n",
    "                                               fill_mode='nearest')\n",
    "\n",
    "            validation_datagen = ImageDataGenerator(rescale=1./255)\n",
    "\n",
    "        else:\n",
    "            train_datagen = ImageDataGenerator(rescale=1.0/255)\n",
    "            validation_datagen = ImageDataGenerator(rescale=1.0/255)\n",
    "\n",
    "        train_generator = train_datagen.flow_from_directory(\n",
    "                                            self.train_dir,\n",
    "                                            classes=['cats', 'dogs'],\n",
    "                                            target_size=(self.image_size, self.image_size),\n",
    "                                            batch_size=self.batch_size,\n",
    "                                            class_mode='categorical')\n",
    "        validation_generator = validation_datagen.flow_from_directory(\n",
    "                                            self.validation_dir,\n",
    "                                            classes=['cats', 'dogs'],\n",
    "                                            target_size=(self.image_size, self.image_size),\n",
    "                                            batch_size=self.batch_size,\n",
    "                                            class_mode='categorical')\n",
    "\n",
    "        return train_generator, validation_generator\n",
    "\n",
    "    def model_building(self):\n",
    "        \n",
    "        if self.activation=='relu':\n",
    "            activation = activations.relu\n",
    "        elif self.activation=='tanh':\n",
    "            activation = activations.tanh\n",
    "        else:\n",
    "            print('Please select between relu and tanh..!!')\n",
    "            \n",
    "\n",
    "        ip = Input(batch_shape=(None, self.image_size, self.image_size, 3), \n",
    "                   name='input')\n",
    "\n",
    "        x = Conv2D(filters=32, kernel_size=(3, 3), padding='same', \n",
    "                   activation=activation, name='conv1')(ip)\n",
    "        x = MaxPool2D(pool_size=(2, 2), name='pool1')(x)\n",
    "\n",
    "        x = Conv2D(filters=64, kernel_size=(3, 3), padding='same', \n",
    "                   activation=activation, name='conv2')(x)\n",
    "        x = MaxPool2D(pool_size=(2, 2), name='pool2')(x)\n",
    "\n",
    "        x = Conv2D(filters=128, kernel_size=(3, 3), padding='same', \n",
    "                   activation=activation, name='conv3')(x)\n",
    "        x = MaxPool2D(pool_size=(2, 2), name='pool3')(x)\n",
    "\n",
    "        x = Conv2D(filters=256, kernel_size=(3, 3), padding='same', \n",
    "                   activation=activation, name='conv4')(x)\n",
    "        x = MaxPool2D(pool_size=(2, 2), name='pool4')(x)\n",
    "\n",
    "        x = Flatten(name='flatten')(x)\n",
    "        if self.dropout:\n",
    "            x = Dropout(rate=0.3, name='dropout1')(x)\n",
    "\n",
    "        x = Dense(units=128, activation=activations.relu, \n",
    "                  name='dense1')(x)\n",
    "        if self.dropout:\n",
    "            x = Dropout(rate=0.3, name='dropout2')(x)\n",
    "\n",
    "        output = Dense(units=2, activation=activations.softmax, \n",
    "                       name='output')(x)\n",
    "\n",
    "        model = Model(inputs=ip, outputs=output)\n",
    "\n",
    "        return model\n",
    "\n",
    "    def training_parameters(self):\n",
    "\n",
    "        if self.optimizer == 'adam':\n",
    "            opt = optimizers.adam(self.lr)\n",
    "        elif self.optimizer == 'rms':\n",
    "            opt = optimizers.RMSprop(self.lr)\n",
    "        else: \n",
    "            print('Please select between adam and rms..!!')\n",
    "\n",
    "        if self.loss == 'binary':\n",
    "            loss = losses.binary_crossentropy\n",
    "        elif self.loss == 'multiclass':\n",
    "            loss = losses.categorical_crossentropy\n",
    "        else: \n",
    "            print('Please select between binary and multiclass..!!')\n",
    "            \n",
    "        if self.metric == 'binary':\n",
    "            accuracy = metrics.binary_accuracy\n",
    "        elif self.metric == 'multiclass':\n",
    "            accuracy = metrics.categorical_accuracy\n",
    "        else: \n",
    "            print('Please select between binary and multiclass..!!')\n",
    "            \n",
    "        ckpt_path = os.path.join(self.LOGDIR + 'cat_dog_v3_1.h5')\n",
    "        \n",
    "        if self.earlystopping:\n",
    "            callbacks_list = [callbacks.EarlyStopping(monitor='val_categorical_accuracy', \n",
    "                                                      patience=1),\n",
    "                              callbacks.ModelCheckpoint(filepath=ckpt_path, \n",
    "                                                        monitor='val_loss'),\n",
    "                              callbacks.ReduceLROnPlateau(monitor='val_loss', \n",
    "                                                          patience=1, factor=0.1)\n",
    "                             ]\n",
    "        else:\n",
    "            callbacks_list = [callbacks.ModelCheckpoint(filepath=ckpt_path, \n",
    "                                                        monitor='val_loss'),\n",
    "                              callbacks.ReduceLROnPlateau(monitor='val_loss', \n",
    "                                                          patience=1, factor=0.1)\n",
    "                             ]\n",
    "            \n",
    "        return opt, loss, accuracy, callbacks_list\n",
    "\n",
    "    def training(self):\n",
    "\n",
    "        self._load_data()\n",
    "\n",
    "        model = self.model_building()\n",
    "        model.summary()\n",
    "\n",
    "        train_generator, validation_generator = self.data_generator()\n",
    "\n",
    "        opt, loss, accuracy, callbacks_list = self.training_parameters()\n",
    "        model.compile(loss=loss, optimizer=opt, metrics=[accuracy])\n",
    "\n",
    "        history = model.fit_generator(train_generator,\n",
    "                                      steps_per_epoch=int(2000/self.batch_size),\n",
    "                                      epochs=self.epochs,\n",
    "                                      verbose=2,\n",
    "                                      callbacks=callbacks_list,\n",
    "                                      validation_data=validation_generator,\n",
    "                                      validation_steps=int(1000/self.batch_size))\n",
    "\n",
    "        if self.plotting:\n",
    "\n",
    "            plt.plot(history.history['loss'], label='training_loss')\n",
    "            plt.plot(history.history['val_loss'], label='validation_loss')\n",
    "            plt.xlabel('Epochs')\n",
    "            plt.ylabel('Loss')\n",
    "            plt.title('Training and Validation loss')\n",
    "            plt.legend()\n",
    "            plt.show()\n",
    "\n",
    "            plt.plot(history.history['categorical_accuracy'], label='training_accuracy')\n",
    "            plt.plot(history.history['val_categorical_accuracy'], label='validation_accuracy')\n",
    "            plt.xlabel('Epochs')\n",
    "            plt.ylabel('Accuracy')\n",
    "            plt.title('Training and Validation Accuracy')\n",
    "            plt.legend()\n",
    "            plt.show()\n",
    "\n",
    "        return"
   ]
  },
  {
   "cell_type": "code",
   "execution_count": 10,
   "metadata": {
    "collapsed": true
   },
   "outputs": [],
   "source": [
    "model = CatsAndDogs(loss='multiclass', metric='multiclass', activation='relu',\n",
    "                     optimizer='adam', lr=1e-4, epochs=20, image_size=150,\n",
    "                     batch_size=40, augmentation=True, plotting=True,\n",
    "                     dropout=True, regularizer=False, earlystopping=False)"
   ]
  },
  {
   "cell_type": "code",
   "execution_count": 11,
   "metadata": {},
   "outputs": [
    {
     "name": "stdout",
     "output_type": "stream",
     "text": [
      "Data directory /Volumes/Study/GitHub/data/cats-dogs/\n",
      "Log directory: /Volumes/Study/GitHub/neural-nets/graphs/cats-dogs/\n",
      "_________________________________________________________________\n",
      "Layer (type)                 Output Shape              Param #   \n",
      "=================================================================\n",
      "input (InputLayer)           (None, 150, 150, 3)       0         \n",
      "_________________________________________________________________\n",
      "conv1 (Conv2D)               (None, 150, 150, 32)      896       \n",
      "_________________________________________________________________\n",
      "pool1 (MaxPooling2D)         (None, 75, 75, 32)        0         \n",
      "_________________________________________________________________\n",
      "conv2 (Conv2D)               (None, 75, 75, 64)        18496     \n",
      "_________________________________________________________________\n",
      "pool2 (MaxPooling2D)         (None, 37, 37, 64)        0         \n",
      "_________________________________________________________________\n",
      "conv3 (Conv2D)               (None, 37, 37, 128)       73856     \n",
      "_________________________________________________________________\n",
      "pool3 (MaxPooling2D)         (None, 18, 18, 128)       0         \n",
      "_________________________________________________________________\n",
      "conv4 (Conv2D)               (None, 18, 18, 256)       295168    \n",
      "_________________________________________________________________\n",
      "pool4 (MaxPooling2D)         (None, 9, 9, 256)         0         \n",
      "_________________________________________________________________\n",
      "flatten (Flatten)            (None, 20736)             0         \n",
      "_________________________________________________________________\n",
      "dropout1 (Dropout)           (None, 20736)             0         \n",
      "_________________________________________________________________\n",
      "dense1 (Dense)               (None, 128)               2654336   \n",
      "_________________________________________________________________\n",
      "dropout2 (Dropout)           (None, 128)               0         \n",
      "_________________________________________________________________\n",
      "output (Dense)               (None, 2)                 258       \n",
      "=================================================================\n",
      "Total params: 3,043,010\n",
      "Trainable params: 3,043,010\n",
      "Non-trainable params: 0\n",
      "_________________________________________________________________\n",
      "Found 2000 images belonging to 2 classes.\n",
      "Found 1000 images belonging to 2 classes.\n",
      "Epoch 1/20\n",
      " - 92s - loss: 0.6965 - categorical_accuracy: 0.5095 - val_loss: 0.6916 - val_categorical_accuracy: 0.5370\n",
      "Epoch 2/20\n",
      " - 91s - loss: 0.6873 - categorical_accuracy: 0.5560 - val_loss: 0.6825 - val_categorical_accuracy: 0.5660\n",
      "Epoch 3/20\n",
      " - 88s - loss: 0.6803 - categorical_accuracy: 0.5545 - val_loss: 0.6823 - val_categorical_accuracy: 0.5120\n",
      "Epoch 4/20\n",
      " - 88s - loss: 0.6731 - categorical_accuracy: 0.5700 - val_loss: 0.6690 - val_categorical_accuracy: 0.5650\n",
      "Epoch 5/20\n",
      " - 90s - loss: 0.6598 - categorical_accuracy: 0.6020 - val_loss: 0.6442 - val_categorical_accuracy: 0.6300\n",
      "Epoch 6/20\n",
      " - 95s - loss: 0.6445 - categorical_accuracy: 0.6215 - val_loss: 0.6381 - val_categorical_accuracy: 0.6320\n",
      "Epoch 7/20\n",
      " - 93s - loss: 0.6385 - categorical_accuracy: 0.6270 - val_loss: 0.6568 - val_categorical_accuracy: 0.6170\n",
      "Epoch 8/20\n",
      " - 94s - loss: 0.6326 - categorical_accuracy: 0.6380 - val_loss: 0.6186 - val_categorical_accuracy: 0.6510\n",
      "Epoch 9/20\n",
      " - 94s - loss: 0.6161 - categorical_accuracy: 0.6550 - val_loss: 0.6178 - val_categorical_accuracy: 0.6570\n",
      "Epoch 10/20\n",
      " - 97s - loss: 0.5886 - categorical_accuracy: 0.6780 - val_loss: 0.5905 - val_categorical_accuracy: 0.6790\n",
      "Epoch 11/20\n",
      " - 92s - loss: 0.5884 - categorical_accuracy: 0.6945 - val_loss: 0.5705 - val_categorical_accuracy: 0.6890\n",
      "Epoch 12/20\n",
      " - 93s - loss: 0.5839 - categorical_accuracy: 0.6800 - val_loss: 0.6190 - val_categorical_accuracy: 0.6700\n",
      "Epoch 13/20\n",
      " - 92s - loss: 0.5779 - categorical_accuracy: 0.6920 - val_loss: 0.5553 - val_categorical_accuracy: 0.7000\n",
      "Epoch 14/20\n",
      " - 92s - loss: 0.5647 - categorical_accuracy: 0.7035 - val_loss: 0.5662 - val_categorical_accuracy: 0.6970\n",
      "Epoch 15/20\n",
      " - 94s - loss: 0.5529 - categorical_accuracy: 0.7145 - val_loss: 0.5589 - val_categorical_accuracy: 0.6870\n",
      "Epoch 16/20\n",
      " - 92s - loss: 0.5453 - categorical_accuracy: 0.7300 - val_loss: 0.5537 - val_categorical_accuracy: 0.6980\n",
      "Epoch 17/20\n",
      " - 92s - loss: 0.5285 - categorical_accuracy: 0.7365 - val_loss: 0.5439 - val_categorical_accuracy: 0.7150\n",
      "Epoch 18/20\n",
      " - 92s - loss: 0.5397 - categorical_accuracy: 0.7225 - val_loss: 0.5431 - val_categorical_accuracy: 0.7180\n",
      "Epoch 19/20\n",
      " - 94s - loss: 0.5400 - categorical_accuracy: 0.7240 - val_loss: 0.5463 - val_categorical_accuracy: 0.7130\n",
      "Epoch 20/20\n",
      " - 93s - loss: 0.5256 - categorical_accuracy: 0.7400 - val_loss: 0.5452 - val_categorical_accuracy: 0.7120\n"
     ]
    },
    {
     "data": {
      "image/png": "[encoded data removed]",
      "text/plain": [
       "<Figure size 1080x576 with 1 Axes>"
      ]
     },
     "metadata": {},
     "output_type": "display_data"
    },
    {
     "data": {
      "image/png": "[encoded data removed]",
      "text/plain": [
       "<Figure size 1080x576 with 1 Axes>"
      ]
     },
     "metadata": {},
     "output_type": "display_data"
    }
   ],
   "source": [
    "model.training()"
   ]
  },
  {
   "cell_type": "code",
   "execution_count": 12,
   "metadata": {
    "collapsed": true
   },
   "outputs": [],
   "source": [
    "from keras.models import load_model"
   ]
  },
  {
   "cell_type": "code",
   "execution_count": 13,
   "metadata": {
    "collapsed": true
   },
   "outputs": [],
   "source": [
    "LOGDIR = '/Volumes/Study/GitHub/neural-nets/graphs/cats-dogs/'"
   ]
  },
  {
   "cell_type": "code",
   "execution_count": 14,
   "metadata": {
    "collapsed": true
   },
   "outputs": [],
   "source": [
    "model = load_model(os.path.join(LOGDIR, 'cat_dog_v3_1.h5'))"
   ]
  },
  {
   "cell_type": "code",
   "execution_count": 15,
   "metadata": {
    "collapsed": true
   },
   "outputs": [],
   "source": [
    "test_dir = '/Volumes/Study/GitHub/data/cats-dogs/test/'"
   ]
  },
  {
   "cell_type": "code",
   "execution_count": 16,
   "metadata": {
    "collapsed": true
   },
   "outputs": [],
   "source": [
    "test_datagen = ImageDataGenerator(rescale=1.0/255)"
   ]
  },
  {
   "cell_type": "code",
   "execution_count": 17,
   "metadata": {},
   "outputs": [
    {
     "name": "stdout",
     "output_type": "stream",
     "text": [
      "Found 1000 images belonging to 2 classes.\n"
     ]
    }
   ],
   "source": [
    "test_generator = test_datagen.flow_from_directory(test_dir,\n",
    "                                                 target_size=(150, 150),\n",
    "                                                 batch_size=1,\n",
    "                                                 shuffle=False,\n",
    "                                                 class_mode='categorical')"
   ]
  },
  {
   "cell_type": "code",
   "execution_count": 18,
   "metadata": {},
   "outputs": [
    {
     "data": {
      "text/plain": [
       "[0.5194449681319129, 0.744]"
      ]
     },
     "execution_count": 18,
     "metadata": {},
     "output_type": "execute_result"
    }
   ],
   "source": [
    "model.evaluate_generator(test_generator)"
   ]
  },
  {
   "cell_type": "code",
   "execution_count": 19,
   "metadata": {
    "collapsed": true
   },
   "outputs": [],
   "source": [
    "test_generator.reset()"
   ]
  },
  {
   "cell_type": "code",
   "execution_count": 20,
   "metadata": {
    "collapsed": true
   },
   "outputs": [],
   "source": [
    "nb = len(test_generator.filenames)"
   ]
  },
  {
   "cell_type": "code",
   "execution_count": 21,
   "metadata": {},
   "outputs": [
    {
     "data": {
      "text/plain": [
       "{'cats': 0, 'dogs': 1}"
      ]
     },
     "execution_count": 21,
     "metadata": {},
     "output_type": "execute_result"
    }
   ],
   "source": [
    "test_generator.class_indices"
   ]
  },
  {
   "cell_type": "code",
   "execution_count": 22,
   "metadata": {
    "collapsed": true
   },
   "outputs": [],
   "source": [
    "predictions = model.predict_generator(test_generator, steps=nb)"
   ]
  },
  {
   "cell_type": "code",
   "execution_count": 23,
   "metadata": {},
   "outputs": [
    {
     "data": {
      "text/plain": [
       "(1000, 2)"
      ]
     },
     "execution_count": 23,
     "metadata": {},
     "output_type": "execute_result"
    }
   ],
   "source": [
    "predictions.shape"
   ]
  },
  {
   "cell_type": "code",
   "execution_count": 24,
   "metadata": {},
   "outputs": [
    {
     "data": {
      "text/plain": [
       "array([[0.14886294, 0.8511371 ],\n",
       "       [0.3713358 , 0.6286642 ],\n",
       "       [0.49358034, 0.5064196 ],\n",
       "       [0.56816834, 0.4318317 ],\n",
       "       [0.6847203 , 0.31527972]], dtype=float32)"
      ]
     },
     "execution_count": 24,
     "metadata": {},
     "output_type": "execute_result"
    }
   ],
   "source": [
    "predictions[:5]"
   ]
  },
  {
   "cell_type": "code",
   "execution_count": 25,
   "metadata": {
    "collapsed": true
   },
   "outputs": [],
   "source": [
    "prediction_class = np.argmax(predictions, axis=-1)"
   ]
  },
  {
   "cell_type": "code",
   "execution_count": 26,
   "metadata": {},
   "outputs": [
    {
     "data": {
      "text/plain": [
       "array([1, 1, 1, 0, 0])"
      ]
     },
     "execution_count": 26,
     "metadata": {},
     "output_type": "execute_result"
    }
   ],
   "source": [
    "prediction_class[:5]"
   ]
  },
  {
   "cell_type": "code",
   "execution_count": 27,
   "metadata": {
    "collapsed": true
   },
   "outputs": [],
   "source": [
    "labels = (test_generator.class_indices)\n",
    "labels = dict((v,k) for k,v in labels.items())"
   ]
  },
  {
   "cell_type": "code",
   "execution_count": 32,
   "metadata": {},
   "outputs": [
    {
     "data": {
      "text/plain": [
       "{0: 'cats', 1: 'dogs'}"
      ]
     },
     "execution_count": 32,
     "metadata": {},
     "output_type": "execute_result"
    }
   ],
   "source": [
    "labels"
   ]
  },
  {
   "cell_type": "code",
   "execution_count": 34,
   "metadata": {
    "collapsed": true
   },
   "outputs": [],
   "source": [
    "predicted_result = [labels[k] for k in prediction_class]"
   ]
  },
  {
   "cell_type": "code",
   "execution_count": 35,
   "metadata": {},
   "outputs": [
    {
     "data": {
      "text/plain": [
       "['dogs', 'dogs', 'dogs', 'cats', 'cats']"
      ]
     },
     "execution_count": 35,
     "metadata": {},
     "output_type": "execute_result"
    }
   ],
   "source": [
    "predicted_result[:5]"
   ]
  },
  {
   "cell_type": "code",
   "execution_count": null,
   "metadata": {
    "collapsed": true
   },
   "outputs": [],
   "source": []
  }
 ],
 "metadata": {
  "kernelspec": {
   "display_name": "Python 3",
   "language": "python",
   "name": "python3"
  },
  "language_info": {
   "codemirror_mode": {
    "name": "ipython",
    "version": 3
   },
   "file_extension": ".py",
   "mimetype": "text/x-python",
   "name": "python",
   "nbconvert_exporter": "python",
   "pygments_lexer": "ipython3",
   "version": "3.6.3"
  }
 },
 "nbformat": 4,
 "nbformat_minor": 2
}
